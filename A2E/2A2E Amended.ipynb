{
 "cells": [
  {
   "cell_type": "markdown",
   "metadata": {},
   "source": [
    "# 2A2E: Intro to Computer Engineering 2\n",
    "\n",
    "Bugs, feedback, etc. to Noa Zilberman, [noa.zilberman@eng.ox.ac.uk](mailto:noa.zilberman@eng.ox.ac.uk) MT2023.  \n",
    "Credit to Nick Hawes.\n",
    "\n",
    "If you are reading this in a PDF, please note that there is a notebook file available on Canvas instead. However, you do not have to use the notebook if you prefer to work in separate files or in an IDE instead.\n",
    "\n",
    "Before doing this sheet, you are strongly advised to complete the self-study Python course available at https://github.com/hawesie/a2-computer-engineering. You do not need to do the exercises included in that course, but you may find them useful\n",
    "practice.\n",
    "\n",
    "When producing solutions for you tutorial, make sure you include enough output so that your tutor can quickly see how far you got with each question. \n",
    "\n",
    "Since there is a wide range of programming experience in the student population, this sheet contains some optional extensions. If you feel confident with this topic, you can use this optional material to challenge yourself.\n",
    "\n",
    "In all of the questions below, feel free to use common external libraries to provide building blocks of your solutions. In fact, the use of [numpy][] and [matplotlib][] is pretty much essential in modern scientific Python programming. However, make sure to write the code for the main part of the question yourself. You can always compare your results to those produced by external implementations afterwards.\n",
    "\n",
    "  [numpy]: https://numpy.org\n",
    "  [matplotlib]: https://matplotlib.org"
   ]
  },
  {
   "cell_type": "markdown",
   "metadata": {},
   "source": [
    "# Load in some imports that might be useful\n",
    "import numpy as np\n",
    "import matplotlib.pyplot as plt\n",
    "%matplotlib inline"
   ]
  },
  {
   "cell_type": "markdown",
   "metadata": {},
   "source": [
    "The following code is copied from the lecture notes. You can use this code to test and time your own solutions if you wish. If you don't want to use it, then just delete the cells."
   ]
  },
  {
   "cell_type": "code",
   "execution_count": 19,
   "metadata": {},
   "outputs": [],
   "source": [
    "# Testing infrastructure copied from lecture notes\n",
    "# \n",
    "\n",
    "from random import randint, random\n",
    "from copy import deepcopy\n",
    "\n",
    "\n",
    "def run_one_test(args, result, func):\n",
    "    \"\"\"\n",
    "    Test if the input function generates the given result with the input args.\n",
    "    Args:\n",
    "        args: A tuple of arguments to apply to the function\n",
    "        result: The (single) result to expect from the function\n",
    "        func: The function to test\n",
    "    Returns:\n",
    "        True if the function produces an output that equals result\n",
    "    \"\"\"    \n",
    "    # apply func to args\n",
    "    # *args expands the input tuple and uses the results as arguments to the function    \n",
    "    if func(*args) == result:        \n",
    "        return True\n",
    "    else:\n",
    "        return False\n",
    "\n",
    "def run_tests(values, func):\n",
    "    \"\"\"\n",
    "    Test the input function with multiple input/ouput value pairs\n",
    "    Args:\n",
    "        values: a list of input-output pairs \n",
    "        func: The function to test\n",
    "    \"\"\"\n",
    "    successes = 0\n",
    "    failures = 0\n",
    "    for test_values in deepcopy(values):\n",
    "        if run_one_test(test_values[0], test_values[1], func):\n",
    "            successes += 1\n",
    "        else:\n",
    "            failures += 1\n",
    "    print('{} successes and {} failures'.format(successes, failures))\n",
    "\n",
    "\n",
    "\n",
    "def time_tests(tests, func, repeats_per_test=100):\n",
    "    \"\"\"\n",
    "    Time a collection of tests on the given function. This assumes that len(tests[i][0][0]) gives the problem size.\n",
    "\n",
    "    Note that all timing results include the cost of one deepcopy per test on the arguments. \n",
    "\n",
    "    Args:\n",
    "        tests: A list of input/output pairs that can be sent to run_one_test. \n",
    "        func: The function to test.\n",
    "        \n",
    "    Returns:\n",
    "        problem_sizes: the sizes of the problems tested\n",
    "        problem_means: a mean runtime in seconds for each problem size\n",
    "        problem_stdevs: a standard deviation for each mean\n",
    "    \"\"\"\n",
    "    \n",
    "    # for efficiency when we copy we are not going to use the outcomes \n",
    "    # so create a new list of test without outcomes\n",
    "    test_list = [test[0] for test in tests]\n",
    "    \n",
    "    timing_results = dict()\n",
    "    \n",
    "    for r in range(repeats_per_test):\n",
    "        # do one big copy of all tests, rather than copying each test individually\n",
    "        for args in deepcopy(test_list):\n",
    "            # run the test\n",
    "            res = %timeit -r 1 -n 1 -o -q func(*args)\n",
    "            # get the input size we tests\n",
    "            n = len(args[0])\n",
    "            # store the result in the dictionary\n",
    "            # each n maps to a list of two lists, one for mean, one for stddev\n",
    "            timing_results.setdefault(n, []).append(res.average)\n",
    "\n",
    "    # the individual problem sizes are the keys from the dictionary\n",
    "    problem_sizes = np.array(list(timing_results.keys()))\n",
    "    # calc means for the problem, \n",
    "    problem_means = np.array([np.mean(timing_results[n]) for n in problem_sizes])\n",
    "    # calc stdevs for the problem\n",
    "    problem_stdevs = np.array([np.std(timing_results[n]) for n in problem_sizes])\n",
    "    return problem_sizes, problem_means, problem_stdevs\n",
    "\n",
    "    \n"
   ]
  },
  {
   "cell_type": "markdown",
   "metadata": {},
   "source": [
    "## Question 1: Hotter/Colder\n",
    "\n",
    "In this question you will develop an algorithm for a problem called \"hotter/colder\". The goal of your algorithm is to guess a secret integer between $1$ and $n$. For each guess your algorithm should either terminate in the case that you have guessed the correct answer, or it will recieve *hotter* ($1$) if this guess is closer than the previous guess, or *colder* ($-1$) if the answer is further away than the previous answer. Should your programme guess the same number twice you will recieve a tepid response ($0$). The secret integer is always in the range $[1...n]$ (i.e. you do not have to consider the case that the secret does not exist).\n"
   ]
  },
  {
   "cell_type": "markdown",
   "metadata": {},
   "source": [
    "The code below defines `guess_secret`. This is a function you can call when your programme wants to guess the secret. Note you have to pass the secret in, so no peeking!"
   ]
  },
  {
   "cell_type": "code",
   "execution_count": 20,
   "metadata": {},
   "outputs": [],
   "source": [
    "\n",
    "# Define some constants to use in the guessing game\n",
    "\n",
    "HOTTER=\"hotter\"\n",
    "COLDER=\"colder\"\n",
    "TEPID=\"tepid\"\n",
    "CORRECT=\"correct\"\n",
    "\n",
    "def guess_secret(secret, current_guess, previous_guess):\n",
    "    \"\"\"\n",
    "    This function catpures the rules of the guessing game.\n",
    "    Args:\n",
    "        secret: The secret to be guessed\n",
    "        current_guess: The guess you're making\n",
    "        previous_guess: The guess you made before the current one\n",
    "    \"\"\"\n",
    "    if secret == current_guess:\n",
    "        return CORRECT\n",
    "    elif current_guess == previous_guess:\n",
    "        return TEPID\n",
    "    else:\n",
    "        # how far was previous guess away\n",
    "        previous_diff = abs(secret - previous_guess)\n",
    "        # how far away is the current guess\n",
    "        current_diff = abs(secret - current_guess)\n",
    "        if current_diff < previous_diff:\n",
    "            return HOTTER\n",
    "        else:\n",
    "            return COLDER"
   ]
  },
  {
   "cell_type": "code",
   "execution_count": 21,
   "metadata": {},
   "outputs": [
    {
     "name": "stdout",
     "output_type": "stream",
     "text": [
      "tepid\n",
      "hotter\n",
      "hotter\n",
      "colder\n",
      "correct\n"
     ]
    }
   ],
   "source": [
    "# some exmamples of `guess_secret` being used.\n",
    "test_n = 100\n",
    "test_secret = 30\n",
    "print(guess_secret(test_secret, 0, 0))\n",
    "print(guess_secret(test_secret, 20, 0))\n",
    "print(guess_secret(test_secret, 25, 20))\n",
    "print(guess_secret(test_secret, 55, 25))\n",
    "print(guess_secret(test_secret, test_secret, 55))\n"
   ]
  },
  {
   "cell_type": "markdown",
   "metadata": {},
   "source": [
    "### Question 1: Part 1\n",
    "\n",
    "The Python code below implements perhaps simplest *brute force* solution to the hotter/colder problem. This algorithm ignores the hotter/colder feedback. "
   ]
  },
  {
   "cell_type": "code",
   "execution_count": 22,
   "metadata": {},
   "outputs": [],
   "source": [
    "def hotter_colder_uninformed_brute(n, secret):\n",
    "    previous_guess = 1\n",
    "    for i in range(1, n+1):\n",
    "        guess_result = guess_secret(secret, i, previous_guess)\n",
    "        if guess_result == CORRECT:          \n",
    "            return i\n",
    "        previous_guess = i"
   ]
  },
  {
   "cell_type": "markdown",
   "metadata": {},
   "source": [
    "Here are some examples of the algorithm being called. `randint` makes the secret random."
   ]
  },
  {
   "cell_type": "code",
   "execution_count": 23,
   "metadata": {},
   "outputs": [
    {
     "name": "stdout",
     "output_type": "stream",
     "text": [
      "The secret number was 24 \n",
      "The secret number was 7 \n",
      "The secret number was 54 \n"
     ]
    }
   ],
   "source": [
    "from random import randint\n",
    "\n",
    "n = 100\n",
    "print(f\"The secret number was {hotter_colder_uninformed_brute(n, randint(1,n))} \")\n",
    "print(f\"The secret number was {hotter_colder_uninformed_brute(n, randint(1,n))} \")\n",
    "print(f\"The secret number was {hotter_colder_uninformed_brute(n, randint(1,n))} \")"
   ]
  },
  {
   "cell_type": "markdown",
   "metadata": {},
   "source": [
    "a. State the worst-case time complexity of the brute-force algorithm.\n",
    "\n"
   ]
  },
  {
   "cell_type": "code",
   "execution_count": null,
   "metadata": {},
   "outputs": [],
   "source": [
    "# O(n), where n is the number of guesses. It is a reasonable way of measuring the time cost since\n",
    "# a comparison (if guess_result == CORRECT) is required for each guess."
   ]
  },
  {
   "cell_type": "markdown",
   "metadata": {},
   "source": [
    "b. Sketch a proof of the correctness of this algorithm in the form of a loop invariant. Remember to include the following:\n",
    " * **Initialisation**: The loop invariant must be true before the first iteration of the loop.\n",
    " * **Maintenance**: If the loop invariant is true before an iteration of the loop, it must remain true before the next iteration.\n",
    " * **Termination**: When the loop terminates, then it delivers a property that helps show correctness."
   ]
  },
  {
   "cell_type": "code",
   "execution_count": null,
   "metadata": {},
   "outputs": [],
   "source": [
    "# Initialisation: At the start of the loop, i=1. Hence, we still have to inspect all elements in range [1 ... n].\n",
    "\n",
    "# Maintenance: At the start of the loop, it has the range [i ... n] to check. It checks whether i is the secret. If it is, it will terminate and return i. \n",
    "# Else, it will continue to check using i+1. Therefore, the next iteration checks the remaining elements that were not checked by the\n",
    "# previous iteration.\n",
    "\n",
    "# Termination: When the algorithm successfully guesses the secret, it terminates since it has found the key. \n",
    "# Since the maintenance step ensures that we have checked every value of i up to and including n, the algorithm is guaranteed \n",
    "# to have checked all elements to satisfy the loop invariant. Thus, the algorithm is correct. "
   ]
  },
  {
   "cell_type": "markdown",
   "metadata": {},
   "source": [
    "### Question 1: Part 2\n",
    "\n",
    "It is possible to design a faster brute-force algorithm for hotter/colder that has worst-case time complexity of $O(n/2)$, i.e. it only needs to guess half of the possible available integers.\n",
    "\n",
    "a. Implement and test an algorithm that guesses $n/2$ integers in the worst case. Place your method inside the `hotter_colder_faster_brute` skeleton provided.\n",
    "\n",
    "\n"
   ]
  },
  {
   "cell_type": "code",
   "execution_count": 59,
   "metadata": {},
   "outputs": [],
   "source": [
    "def hotter_colder_faster_brute(n, secret):\n",
    "    previous_guess = 1\n",
    "    for i in range(1, n+2):\n",
    "        if i%2==1:\n",
    "            guess_result = guess_secret(secret, i, previous_guess)\n",
    "            if guess_result == CORRECT:          \n",
    "                return i\n",
    "            elif guess_result == COLDER:\n",
    "                if guess_secret(secret, i-1, previous_guess) == CORRECT:\n",
    "                    return i-1\n",
    "            previous_guess = i\n",
    "    return -1\n"
   ]
  },
  {
   "cell_type": "code",
   "execution_count": 60,
   "metadata": {},
   "outputs": [],
   "source": [
    "# Here is a basic useful test you can use when you've written your algorithm\n",
    "n = 10\n",
    "for secret in range(1, n+1):\n",
    "    if hotter_colder_faster_brute(n,secret) != secret:\n",
    "        print(f\"Failed to guess {secret}\")\n",
    "        break"
   ]
  },
  {
   "cell_type": "markdown",
   "metadata": {},
   "source": [
    "The code below runs `timeit` for the two algorithms you have for \"hotter/colder\". Do you see much of an improvement for your faster version?"
   ]
  },
  {
   "cell_type": "code",
   "execution_count": 62,
   "metadata": {},
   "outputs": [
    {
     "name": "stdout",
     "output_type": "stream",
     "text": [
      "308 µs ± 2.11 µs per loop (mean ± std. dev. of 7 runs, 100 loops each)\n",
      "215 µs ± 4.5 µs per loop (mean ± std. dev. of 7 runs, 100 loops each)\n",
      "100 µs ± 7.37 µs per loop (mean ± std. dev. of 7 runs, 100 loops each)\n",
      "66 µs ± 1.39 µs per loop (mean ± std. dev. of 7 runs, 100 loops each)\n",
      "1.29 ms ± 9.99 µs per loop (mean ± std. dev. of 7 runs, 100 loops each)\n",
      "906 µs ± 10.4 µs per loop (mean ± std. dev. of 7 runs, 100 loops each)\n",
      "840 µs ± 18 µs per loop (mean ± std. dev. of 7 runs, 100 loops each)\n",
      "573 µs ± 8.54 µs per loop (mean ± std. dev. of 7 runs, 100 loops each)\n",
      "1.15 ms ± 11.2 µs per loop (mean ± std. dev. of 7 runs, 100 loops each)\n",
      "817 µs ± 11.7 µs per loop (mean ± std. dev. of 7 runs, 100 loops each)\n",
      "1.12 ms ± 43.5 µs per loop (mean ± std. dev. of 7 runs, 100 loops each)\n",
      "738 µs ± 10.1 µs per loop (mean ± std. dev. of 7 runs, 100 loops each)\n",
      "1.48 ms ± 58.8 µs per loop (mean ± std. dev. of 7 runs, 100 loops each)\n",
      "988 µs ± 18.3 µs per loop (mean ± std. dev. of 7 runs, 100 loops each)\n",
      "1.07 ms ± 31.1 µs per loop (mean ± std. dev. of 7 runs, 100 loops each)\n",
      "761 µs ± 45.2 µs per loop (mean ± std. dev. of 7 runs, 100 loops each)\n",
      "160 µs ± 1.24 µs per loop (mean ± std. dev. of 7 runs, 100 loops each)\n",
      "109 µs ± 227 ns per loop (mean ± std. dev. of 7 runs, 100 loops each)\n",
      "817 µs ± 16.8 µs per loop (mean ± std. dev. of 7 runs, 100 loops each)\n",
      "555 µs ± 2.57 µs per loop (mean ± std. dev. of 7 runs, 100 loops each)\n",
      "1.22 ms ± 19.6 µs per loop (mean ± std. dev. of 7 runs, 100 loops each)\n",
      "848 µs ± 15 µs per loop (mean ± std. dev. of 7 runs, 100 loops each)\n",
      "334 µs ± 2.19 µs per loop (mean ± std. dev. of 7 runs, 100 loops each)\n",
      "233 µs ± 4.28 µs per loop (mean ± std. dev. of 7 runs, 100 loops each)\n",
      "1.24 ms ± 9.73 µs per loop (mean ± std. dev. of 7 runs, 100 loops each)\n",
      "860 µs ± 7.22 µs per loop (mean ± std. dev. of 7 runs, 100 loops each)\n",
      "1.14 ms ± 6.79 µs per loop (mean ± std. dev. of 7 runs, 100 loops each)\n",
      "793 µs ± 2.83 µs per loop (mean ± std. dev. of 7 runs, 100 loops each)\n",
      "531 µs ± 7.24 µs per loop (mean ± std. dev. of 7 runs, 100 loops each)\n",
      "360 µs ± 2.33 µs per loop (mean ± std. dev. of 7 runs, 100 loops each)\n",
      "364 µs ± 3.23 µs per loop (mean ± std. dev. of 7 runs, 100 loops each)\n",
      "254 µs ± 8.45 µs per loop (mean ± std. dev. of 7 runs, 100 loops each)\n",
      "1.21 ms ± 16 µs per loop (mean ± std. dev. of 7 runs, 100 loops each)\n",
      "839 µs ± 15 µs per loop (mean ± std. dev. of 7 runs, 100 loops each)\n",
      "1.44 ms ± 28.9 µs per loop (mean ± std. dev. of 7 runs, 100 loops each)\n",
      "1.02 ms ± 14.1 µs per loop (mean ± std. dev. of 7 runs, 100 loops each)\n",
      "1.33 ms ± 13.2 µs per loop (mean ± std. dev. of 7 runs, 100 loops each)\n",
      "913 µs ± 6.18 µs per loop (mean ± std. dev. of 7 runs, 100 loops each)\n",
      "1.27 ms ± 20.1 µs per loop (mean ± std. dev. of 7 runs, 100 loops each)\n",
      "880 µs ± 8 µs per loop (mean ± std. dev. of 7 runs, 100 loops each)\n"
     ]
    }
   ],
   "source": [
    "# change values of n to see a larger effect\n",
    "for n in [100, 10000]:\n",
    "    # you need multiple repeats since the value of the secret clearly impacts\n",
    "    # runtime for a single call\n",
    "    for repeat in range(10):\n",
    "        secret = randint(1, n)\n",
    "        %timeit -n 100 hotter_colder_uninformed_brute(n, secret)\n",
    "        %timeit -n 100 hotter_colder_faster_brute(n, secret)\n"
   ]
  },
  {
   "cell_type": "markdown",
   "metadata": {},
   "source": [
    "b. Alter your proof from above to prove the correctness of this faster algorithm.\n",
    "\n"
   ]
  },
  {
   "cell_type": "code",
   "execution_count": null,
   "metadata": {},
   "outputs": [],
   "source": [
    "# Initialisation: At the start of the loop, i=1. Hence, we still have to inspect all elements in range [1 ... n].\n",
    "\n",
    "# Maintenance: At the start of the loop, it has the range [i ... n] to check. But only if i%2==1 (if it is odd), does it check whether i is the secret. If it is, it will terminate and return i. \n",
    "# If it is colder, it will check if i-1 is the secret and will terminate if it is. Else, it will continue to check i+2 next. Therefore, the next iteration checks the remaining elements that were not checked by the\n",
    "# previous iteration.\n",
    "\n",
    "# Termination: When the algorithm successfully guesses the secret, it terminates since it has found the key. \n",
    "# Since the maintenance step ensures that we have checked every value of i up to and including n, the algorithm is guaranteed \n",
    "# to have checked all elements to satisfy the loop invariant. Thus, the algorithm is correct. "
   ]
  },
  {
   "cell_type": "markdown",
   "metadata": {},
   "source": [
    "### Question 1: Part 3\n",
    "\n",
    "It is possible to design an algorithm for hotter/colder that has _logarithmic_ worst-case time complexity.\n",
    "\n",
    "\n",
    "\n"
   ]
  },
  {
   "cell_type": "markdown",
   "metadata": {},
   "source": [
    "a. Implement and test an algorithm with logarithmic worst-case time complexity. Hint: consider other algorithms you have seen in this complexity class."
   ]
  },
  {
   "cell_type": "code",
   "execution_count": 63,
   "metadata": {},
   "outputs": [],
   "source": [
    "def hotter_colder_faster(n, secret):\n",
    "    l = 1\n",
    "    r = n\n",
    "\n",
    "    # note that condition is NOT l<r. we want to narrow m down to l=r=m\n",
    "    while l<=r:\n",
    "        m = (l+r)//2\n",
    "\n",
    "        if secret<m:\n",
    "            # note that r=m can be narrowed further to r=m-1\n",
    "            r=m-1\n",
    "        elif secret>m:\n",
    "            l=m+1\n",
    "        elif secret==m:\n",
    "            return m\n",
    "\n",
    "    return -1\n",
    "\n",
    "# Initialisation: At the start of the loop, l=1 & r=n. Hence, we still have to inspect all elements in range [1 ... n].\n",
    "\n",
    "# Maintenance: At the start of the loop, it has the range [1 ... n] to check. It checks whether m = (l+r)//2 is the secret. If it is, it will terminate and return m. \n",
    "# If secret < m, r = m and it will continue to iterate. If secret > m, l = m and it will continue to iterate.\n",
    "\n",
    "# Termination: There are 2 termination cases to check. 1: When the algorithm successfully guesses the secret and terminates (since it has found the key, it is correct), \n",
    "# and when it does not guess the secret after l=r. Since the maintenance step ensures that we have checked every value of i up to and including n, the algorithm is guaranteed \n",
    "# to have checked all elements to satisfy the loop invariant. Thus, the algorithm is correct. "
   ]
  },
  {
   "cell_type": "code",
   "execution_count": 64,
   "metadata": {},
   "outputs": [],
   "source": [
    "# Here is a basic useful test again\n",
    "n = 10\n",
    "for secret in range(1, n+1):\n",
    "    if hotter_colder_faster(n,secret) != secret:\n",
    "        print(f\"Failed to guess {secret}\")\n",
    "        break\n"
   ]
  },
  {
   "cell_type": "code",
   "execution_count": 65,
   "metadata": {},
   "outputs": [
    {
     "name": "stdout",
     "output_type": "stream",
     "text": [
      "636 µs ± 29.9 µs per loop (mean ± std. dev. of 7 runs, 100 loops each)\n",
      "910 ns ± 14.4 ns per loop (mean ± std. dev. of 7 runs, 100 loops each)\n",
      "170 µs ± 446 ns per loop (mean ± std. dev. of 7 runs, 100 loops each)\n",
      "1.01 µs ± 12.3 ns per loop (mean ± std. dev. of 7 runs, 100 loops each)\n",
      "864 µs ± 12.8 µs per loop (mean ± std. dev. of 7 runs, 100 loops each)\n",
      "1.09 µs ± 130 ns per loop (mean ± std. dev. of 7 runs, 100 loops each)\n",
      "735 µs ± 14.6 µs per loop (mean ± std. dev. of 7 runs, 100 loops each)\n",
      "882 ns ± 47.3 ns per loop (mean ± std. dev. of 7 runs, 100 loops each)\n",
      "495 µs ± 11.8 µs per loop (mean ± std. dev. of 7 runs, 100 loops each)\n",
      "1.12 µs ± 89.1 ns per loop (mean ± std. dev. of 7 runs, 100 loops each)\n",
      "744 µs ± 10.1 µs per loop (mean ± std. dev. of 7 runs, 100 loops each)\n",
      "992 ns ± 41.7 ns per loop (mean ± std. dev. of 7 runs, 100 loops each)\n",
      "668 µs ± 2.11 µs per loop (mean ± std. dev. of 7 runs, 100 loops each)\n",
      "1.14 µs ± 35.3 ns per loop (mean ± std. dev. of 7 runs, 100 loops each)\n",
      "519 µs ± 3.66 µs per loop (mean ± std. dev. of 7 runs, 100 loops each)\n",
      "1.09 µs ± 6.87 ns per loop (mean ± std. dev. of 7 runs, 100 loops each)\n",
      "941 µs ± 16.4 µs per loop (mean ± std. dev. of 7 runs, 100 loops each)\n",
      "1.05 µs ± 123 ns per loop (mean ± std. dev. of 7 runs, 100 loops each)\n",
      "200 µs ± 1.04 µs per loop (mean ± std. dev. of 7 runs, 100 loops each)\n",
      "1.1 µs ± 7.36 ns per loop (mean ± std. dev. of 7 runs, 100 loops each)\n"
     ]
    }
   ],
   "source": [
    "# And here's some timing code for you to run to see if you get a speed-up\n",
    "# change values of n to see a larger effect\n",
    "for n in [10000]:\n",
    "    # you need multiple repeats since the value of the secret clearly impacts\n",
    "    # runtime for a single call\n",
    "    for repeat in range(10):\n",
    "        secret = randint(1, n)\n",
    "        %timeit -n 100  hotter_colder_faster_brute(n, secret)\n",
    "        %timeit -n 100  hotter_colder_faster(n, secret)"
   ]
  },
  {
   "cell_type": "markdown",
   "metadata": {},
   "source": [
    "b. Provide formal proofs of your algorithm's complexity and correctness.\n"
   ]
  },
  {
   "cell_type": "code",
   "execution_count": null,
   "metadata": {},
   "outputs": [],
   "source": [
    "### Proof of Complexity:\n",
    "\n",
    "# Let C(n) be the function that counts the number of times a guess is made for a problem of size n.\n",
    "# If n=1, the first guess will return correct. Hence, C(1)=1.\n",
    "# The number of guesses for a problem of size n is not more than the number of guesses for a problem\n",
    "# of half of its size + 1. Hence, C(n) <= C(floor(n/2)) + 1.\n",
    "# Given that n = 2^k - 1, C(2^k - 1) <= C((2^k - 1)/2) + 1.\n",
    "# Repeating a recurrence relation, we get C(2^k - 1) <= C(2^0 - 1) + k. Hence, C(n) <= k.\n",
    "# Taking log_2 on both sides yield C(n) <= log_2(n).\n",
    "# Hence, the algorithm has a time complexity of O(log_2(n)).\n",
    "\n",
    "### Proof of Correctness:\n",
    "\n",
    "# Initialisation: At the start of the loop, l=1 & r=n. Hence, we still have to inspect all elements in range [1 ... n].\n",
    "\n",
    "# Maintenance: At the start of the loop, it has the range [1 ... n] to check. It checks whether m = (l+r)//2 is the secret. If it is, it will terminate and return m. \n",
    "# If secret < m, r = m and it will continue to iterate. If secret > m, l = m and it will continue to iterate.\n",
    "\n",
    "# Termination: There are 2 termination cases to check. 1: When the algorithm successfully guesses the secret and terminates (since it has found the key, it is correct), \n",
    "# and when it does not guess the secret after l=r. Since the maintenance step ensures that we have checked every value of i up to and including n, the algorithm is guaranteed \n",
    "# to have checked all elements to satisfy the loop invariant. Thus, the algorithm is correct. "
   ]
  },
  {
   "cell_type": "markdown",
   "metadata": {},
   "source": [
    "## Question 2: Recursion and Binary Search \n",
    "\n",
    "The algorithms in the lecture notes were all implemented using _iteration_. However, many of them can also be naturally implemented using _recursion_. \n",
    "\n",
    "If you have not encountered recursion before, please see notebook [\"04 Functions\" from the online Python exercises](https://github.com/hawesie/a2-computer-engineering/blob/master/04%20Functions.ipynb) or consult one of the recommended texts. Below are two examples of recursion. Please ensure you fully understand how they work before attempting the questions.\n",
    "\n",
    "In general, recursion for list processing tends to operate on one item of the list before creating a recursive call with the a smaller version of the list (e.g. by removing the item that was operated on). This is exemplified below in `print_list`. This algorithm first checks the termination criterion (is the list empty), then splits the list into the _head_ (the first item) and the _tail_ (the remainder of the list). The head is then printed out, and the recursive call is made with the tail. "
   ]
  },
  {
   "cell_type": "code",
   "execution_count": 74,
   "metadata": {},
   "outputs": [],
   "source": [
    "def print_list(a, indent_string=''):\n",
    "   \n",
    "    # if list is empty, terminal\n",
    "    if len(a) == 0:\n",
    "        return \n",
    "    else:\n",
    "        # split the list into head and tail\n",
    "        head, tail = a[0], a[1:]\n",
    "        # print head\n",
    "        print(f\"{indent_string}{head}\")\n",
    "        # recurse on tail\n",
    "        print_list(tail, indent_string + \"> \")"
   ]
  },
  {
   "cell_type": "code",
   "execution_count": 75,
   "metadata": {},
   "outputs": [
    {
     "name": "stdout",
     "output_type": "stream",
     "text": [
      "I\n",
      "> really\n",
      "> > do\n",
      "> > > love\n",
      "> > > > recursion\n"
     ]
    }
   ],
   "source": [
    "print_list(['I', 'really', 'do', 'love', 'recursion'])"
   ]
  },
  {
   "cell_type": "markdown",
   "metadata": {},
   "source": [
    "It is also quite natural to construct lists with the return value from a recursive call. For example, the below function multiplies each value in the list by two and builds a list containing this values. Note that the termination condition returns the empty list."
   ]
  },
  {
   "cell_type": "code",
   "execution_count": 81,
   "metadata": {},
   "outputs": [],
   "source": [
    "def double_list(a):\n",
    "   \n",
    "    # if list is empty, terminal\n",
    "    if len(a) == 0:\n",
    "        return []\n",
    "    else:\n",
    "        # split the list into head and tail\n",
    "        head, tail = a[0], a[1:]\n",
    "        # recursive call on tail \n",
    "        new_tail = double_list(tail)\n",
    "        # add doubled value to start of list\n",
    "        return [head*2] + new_tail"
   ]
  },
  {
   "cell_type": "code",
   "execution_count": 82,
   "metadata": {},
   "outputs": [
    {
     "data": {
      "text/plain": [
       "['II', 'reallyreally', 'dodo', 'lovelove', 'recursionrecursion']"
      ]
     },
     "execution_count": 82,
     "metadata": {},
     "output_type": "execute_result"
    }
   ],
   "source": [
    "double_list(['I', 'really', 'do', 'love', 'recursion'])"
   ]
  },
  {
   "cell_type": "markdown",
   "metadata": {},
   "source": [
    "double_list([1, 2, 3, 4])"
   ]
  },
  {
   "cell_type": "markdown",
   "metadata": {},
   "source": [
    "### Question 2: Part 1\n",
    "\n",
    "Below is a copy of our basic `index_of` algorithm from the lecture notes. It _iterates_ through the list `a` until it finds the key."
   ]
  },
  {
   "cell_type": "code",
   "execution_count": 121,
   "metadata": {},
   "outputs": [],
   "source": [
    "def index_of(a, key):\n",
    "    # n is the length of list a\n",
    "    n = len(a)\n",
    "    # is our loop index\n",
    "    i = 0\n",
    "    while i < n: \n",
    "        if a[i] == key:\n",
    "            print(i)\n",
    "            return i\n",
    "        i = i + 1\n",
    "    print(\"-1\")\n",
    "    return -1\n",
    "    \n"
   ]
  },
  {
   "cell_type": "code",
   "execution_count": 124,
   "metadata": {},
   "outputs": [
    {
     "name": "stdout",
     "output_type": "stream",
     "text": [
      "6\n",
      "Yay, it worked!\n",
      "1\n"
     ]
    },
    {
     "data": {
      "text/plain": [
       "1"
      ]
     },
     "execution_count": 124,
     "metadata": {},
     "output_type": "execute_result"
    }
   ],
   "source": [
    "a = [1, 3, 2, 0, 5, 8, 222, 42, 17]\n",
    "key = 222\n",
    "expected = 6\n",
    "\n",
    "if index_of(a, key) == expected:\n",
    "    print('Yay, it worked!')\n",
    "else:\n",
    "    print('Boo, it failed!')\n",
    "\n",
    "index_of(a, 3)"
   ]
  },
  {
   "cell_type": "markdown",
   "metadata": {},
   "source": [
    "Reimplement `index_of` using recursion in `index_of_recursive`. The skeleton provided gives you a hint to the structure. the `index` argument should start at `0` since in the first call to the method should be equivalent to the first iteration of `index_of`. You can then increase this index on earch recursive call."
   ]
  },
  {
   "cell_type": "code",
   "execution_count": 123,
   "metadata": {},
   "outputs": [
    {
     "name": "stdout",
     "output_type": "stream",
     "text": [
      "1\n"
     ]
    }
   ],
   "source": [
    "def index_of_recursive(a, key, index=0):\n",
    "    if a[index] == key:\n",
    "        print(index)\n",
    "        return index\n",
    "    elif index == len(a)-1 and a[index] != key:\n",
    "        print(\"-1\")\n",
    "        return -1\n",
    "    else:\n",
    "        index_of_recursive(a, key, index+1)\n",
    "\n",
    "a = [1, 3, 2, 0, 5, 8, 222, 42, 17]\n",
    "key = 3\n",
    "expected = 6\n",
    "\n",
    "index_of_recursive(a, key)"
   ]
  },
  {
   "cell_type": "code",
   "execution_count": 122,
   "metadata": {},
   "outputs": [
    {
     "name": "stdout",
     "output_type": "stream",
     "text": [
      "-1\n",
      "-1\n",
      "Failed on key -1\n",
      "0\n",
      "0\n",
      "1\n",
      "1\n",
      "Failed on key 3\n"
     ]
    }
   ],
   "source": [
    "# Run some comparisons between our two methods to check correctness.\n",
    "if index_of_recursive(a, -1) != index_of(a, -1):\n",
    "    print(f\"Failed on key {-1}\")\n",
    "        \n",
    "\n",
    "for test_key in a: \n",
    "    if index_of_recursive(a, test_key) != index_of(a, test_key):\n",
    "        print(f\"Failed on key {test_key}\")\n",
    "        break\n",
    "\n",
    "# Not sure why it says it failed. Have checked through with print statements and they match."
   ]
  },
  {
   "cell_type": "markdown",
   "metadata": {},
   "source": [
    "### Question 2: Part 2\n",
    "\n",
    "Reimplement `binary_search` from the lecture notes using recursion instead of iteration. Hint: you may find it easier not to alter `a`, but only change `hi` and `lo` during recursion. The structure below gives you a hint about how to get started. It demonstrates that in some recursive implementation you need an extra \"wrapper\" method which provides the necessary arguments to the recursive implementation."
   ]
  },
  {
   "cell_type": "code",
   "execution_count": 145,
   "metadata": {},
   "outputs": [
    {
     "name": "stdout",
     "output_type": "stream",
     "text": [
      "0 4 9\n",
      "0 1 3\n",
      "2 2 3\n",
      "3 3 3\n"
     ]
    },
    {
     "data": {
      "text/plain": [
       "3"
      ]
     },
     "execution_count": 145,
     "metadata": {},
     "output_type": "execute_result"
    }
   ],
   "source": [
    "def binary_search_recursive_inner(a, key, lo, hi):\n",
    "     if lo <= hi:\n",
    "          m = (lo+hi)//2\n",
    "          print(lo, m, hi)\n",
    "\n",
    "          if key==a[m]:\n",
    "               return m\n",
    "          elif key<a[m]:\n",
    "               # what does it mean if i don't include return here?\n",
    "               return binary_search_recursive_inner(a, key, lo, m-1)\n",
    "          elif key>a[m]:\n",
    "               return binary_search_recursive_inner(a, key, m+1, hi)\n",
    "               \n",
    "     return -1\n",
    "\n",
    "def binary_search_recursive(a, key):\n",
    "     return binary_search_recursive_inner(a, key, 0, len(a) - 1)\n",
    "\n",
    "a = list(range(0,10))\n",
    "key = 3\n",
    "\n",
    "binary_search_recursive(a, key) # expecting 3"
   ]
  },
  {
   "cell_type": "code",
   "execution_count": 146,
   "metadata": {},
   "outputs": [
    {
     "name": "stdout",
     "output_type": "stream",
     "text": [
      "0 4 9\n",
      "0 1 3\n",
      "0 0 0\n",
      "0 4 9\n",
      "0 1 3\n",
      "0 0 0\n",
      "0 4 9\n",
      "0 1 3\n",
      "0 4 9\n",
      "0 1 3\n",
      "2 2 3\n",
      "0 4 9\n",
      "0 1 3\n",
      "2 2 3\n",
      "3 3 3\n",
      "0 4 9\n",
      "0 4 9\n",
      "5 7 9\n",
      "5 5 6\n",
      "0 4 9\n",
      "5 7 9\n",
      "5 5 6\n",
      "6 6 6\n",
      "0 4 9\n",
      "5 7 9\n",
      "0 4 9\n",
      "5 7 9\n",
      "8 8 9\n",
      "0 4 9\n",
      "5 7 9\n",
      "8 8 9\n",
      "9 9 9\n"
     ]
    }
   ],
   "source": [
    "n = 10\n",
    "a = list(range(0,n))\n",
    "for i in [-1] + a:\n",
    "    if i != binary_search_recursive(a, i):\n",
    "        print(f\"Failed on {a}\")\n",
    "        break"
   ]
  },
  {
   "cell_type": "markdown",
   "metadata": {},
   "source": [
    "### Question 2: Part 3\n",
    "\n",
    "Consider a new search problem, which we shall call _multi-query index_of_: \n",
    "\n",
    "Input: A *list* of values $a$ in ascending order with no duplicates, and a list of query values, $keys$, also in ascending order with no duplicates.  \n",
    "Output: A list of the same length as $keys$ where each item in the output list is the index in $a$ of corresponding element from $keys$, or $-1$ if the item is not present in $a$.\n",
    "\n",
    "For example `output[0]` should be the index of `keys[0]` in `a` or $-1$ if it's not present in `a`."
   ]
  },
  {
   "cell_type": "markdown",
   "metadata": {},
   "source": [
    "The code below generates test cases we can use for multi-quiery index_of. It follows the same approach to that taken in the lecture nodes of generating the arguments for the function to be called (`test_list, keys`) followed by the expected results (`indexes`)."
   ]
  },
  {
   "cell_type": "code",
   "execution_count": 167,
   "metadata": {},
   "outputs": [
    {
     "data": {
      "text/plain": [
       "([[1, 2, 3, 5, 6], [2, 6, 7, 8, 9]], [1, 4, -1, -1, -1])"
      ]
     },
     "execution_count": 167,
     "metadata": {},
     "output_type": "execute_result"
    }
   ],
   "source": [
    "import random\n",
    "from math import floor\n",
    "\n",
    "def binary_search(a, key):\n",
    "    # the lower bound of the current search\n",
    "    lo = 0\n",
    "    # the upper bound of the current search\n",
    "    hi = len(a) -1 \n",
    "    # while we still have a items to search    \n",
    "    while lo <= hi:\n",
    "        # compute the middle position of the list\n",
    "        mid = lo + floor((hi - lo)/2) \n",
    "        # search to left of middle\n",
    "        if key < a[mid]:\n",
    "             hi = mid - 1\n",
    "        #  search to right of middle\n",
    "        elif key > a[mid]:\n",
    "             lo = mid + 1\n",
    "        # must be the key\n",
    "        else:\n",
    "            return mid\n",
    "\n",
    "    return -1\n",
    "    \n",
    "def generate_multi_query_test(n, m, p=0.5):    \n",
    "    \"\"\"\n",
    "    Test generator for multi-query index_of.\n",
    "    \n",
    "    This create a list of unique integers which may or may not include keys in a random index.\n",
    "\n",
    "    Args:\n",
    "        n: the length of the generated list\n",
    "        m: the number of keys\n",
    "        p: prob of key existing\n",
    "        \n",
    "    Returns:\n",
    "        (test_list, keys): the list of integers and the key value to look for \n",
    "        indexes: the index of key in test_list or -1 if it is not present\n",
    "    \"\"\"    \n",
    "    # create a list of integers in 0 < n\n",
    "    test_list = list(range(n+m)) \n",
    "    keys  = set()\n",
    "\n",
    "    # generate keys from list\n",
    "    while len(keys) < m:\n",
    "        key = random.choice(test_list)\n",
    "        if key not in keys:\n",
    "            keys.add(key)\n",
    "            # choose if to remove from list\n",
    "            if random.random() > p:\n",
    "                test_list.remove(key)\n",
    "\n",
    "    keys = sorted(list(keys))\n",
    "\n",
    "    # generate test_list by randomly removing elements that where\n",
    "    # not previously chosen as keys\n",
    "    while len(test_list) > n:\n",
    "        key = random.choice(test_list)        \n",
    "        if key not in keys:\n",
    "            test_list.remove(key)\n",
    "\n",
    "    # this is the simplest approach to populating the indexes, but slow\n",
    "    indexes = [binary_search(test_list, key) for key in keys ]\n",
    "\n",
    "    return [test_list, keys], indexes\n",
    "\n",
    "generate_multi_query_test(5, 5)"
   ]
  },
  {
   "cell_type": "markdown",
   "metadata": {},
   "source": [
    "a. Assuming that $a$ has size $n$ and $keys$ has size $m$, implement an algorithm which has best-case time complexity in $O(m\\ log (n))$."
   ]
  },
  {
   "cell_type": "code",
   "execution_count": 169,
   "metadata": {},
   "outputs": [],
   "source": [
    "# This should be a relatively stratightforward application of the previous method in a loop or list comprehension\n",
    "def multi_query_index_of(a, keys):\n",
    "    lst = []\n",
    "    for key in keys:\n",
    "        lst.append(binary_search(a, key))\n",
    "    print(lst)\n",
    "    return lst"
   ]
  },
  {
   "cell_type": "code",
   "execution_count": 171,
   "metadata": {},
   "outputs": [
    {
     "name": "stdout",
     "output_type": "stream",
     "text": [
      "[-1, 1, 2, 3, 7, -1]\n"
     ]
    },
    {
     "data": {
      "text/plain": [
       "[-1, 1, 2, 3, 7, -1]"
      ]
     },
     "execution_count": 171,
     "metadata": {},
     "output_type": "execute_result"
    }
   ],
   "source": [
    "# run a simple test\n",
    "multi_query_index_of(a, [-11, 1, 2, 3, 7, 17])\n"
   ]
  },
  {
   "cell_type": "code",
   "execution_count": 172,
   "metadata": {},
   "outputs": [
    {
     "name": "stdout",
     "output_type": "stream",
     "text": [
      "[1, 15, -1, 17, -1]\n",
      "[-1, -1, -1, -1, 19]\n",
      "[-1, 5, 7, 10, 17]\n",
      "[3, -1, 12, 15, -1]\n",
      "[-1, 6, -1, 16, -1]\n",
      "[-1, 4, 5, 6, 16]\n",
      "[5, -1, 14, -1, 18]\n",
      "[1, -1, 11, 14, 17]\n",
      "[5, 8, -1, 17, -1]\n",
      "[-1, -1, 4, -1, 7]\n",
      "10 successes and 0 failures\n"
     ]
    }
   ],
   "source": [
    "# generate and run some small tests\n",
    "# tests = [generate_multi_query_test(n=random.randint(5, 20), m=random.randint(0,5)) for u in range(10)]\n",
    "\n",
    "tests = [generate_multi_query_test(n=20, m=5) for u in range(10)]\n",
    "run_tests(tests, multi_query_index_of)"
   ]
  },
  {
   "cell_type": "markdown",
   "metadata": {},
   "source": [
    "b. Write a brief informal argument for why your solution is correct and has the required complexity."
   ]
  },
  {
   "cell_type": "code",
   "execution_count": null,
   "metadata": {},
   "outputs": [],
   "source": [
    "# We iterate through each element of the key array, and perform a binary search using each key to look for it's index in a. Thus, the outer loop has a time complexity of O(N) while the inner loop (binary search) has a\n",
    "# known time complexity of O(log(N)). Hence, the algorithm has a effective time complexity of O(N*log(N))."
   ]
  },
  {
   "cell_type": "markdown",
   "metadata": {},
   "source": [
    "c. __Optional Part__\n",
    "   \n",
    "(i) Design an algorithm that runs faster than `multi_query_index_of`."
   ]
  },
  {
   "cell_type": "markdown",
   "metadata": {},
   "source": [
    "    "
   ]
  },
  {
   "cell_type": "markdown",
   "metadata": {},
   "source": [
    "(ii) Demonstrate the improved performance empirically (i.e. with quantitative results). To gather data you can use the testing infrastructure from the lecture notes, which is copied into this workbook above (but you can also roll your own if you prefer).  \n"
   ]
  },
  {
   "cell_type": "markdown",
   "metadata": {},
   "source": []
  },
  {
   "cell_type": "markdown",
   "metadata": {},
   "source": [
    "(iii) Can you also support the empirical results with a formal proof? Depending on your approach, this may be significantly beyond the taught material, so don't worry if you can't. As a starting point, consider extreme cases for your algorithm (i.e. potential worst and best case combinations of `a` and `keys`) and how they influnce runtime."
   ]
  },
  {
   "cell_type": "markdown",
   "metadata": {},
   "source": [
    "## Question 3: Spell Check\n",
    "\n",
    "Download the following file and place it in the same directory as this notebook: https://eng.ox.ac.uk/media/twcd0ukl/words_alpha.txt\n",
    "\n",
    "This file is a list of words from the English language. The list is in alphabetical order. "
   ]
  },
  {
   "cell_type": "markdown",
   "metadata": {},
   "source": [
    "The following code reads the above file (assuming you've put it in the same directory as this notebook) and returns its contents as a list:"
   ]
  },
  {
   "cell_type": "code",
   "execution_count": 3,
   "metadata": {},
   "outputs": [],
   "source": [
    "def load_words():\n",
    "    with open('words_alpha.txt') as word_file:\n",
    "        words = word_file.read().split()\n",
    "\n",
    "    return words"
   ]
  },
  {
   "cell_type": "code",
   "execution_count": 4,
   "metadata": {},
   "outputs": [],
   "source": [
    "all_words = load_words()"
   ]
  },
  {
   "cell_type": "markdown",
   "metadata": {},
   "source": [
    "We can then look at words in the list:"
   ]
  },
  {
   "cell_type": "code",
   "execution_count": 3,
   "metadata": {},
   "outputs": [
    {
     "name": "stdout",
     "output_type": "stream",
     "text": [
      "abacus\n"
     ]
    }
   ],
   "source": [
    "print(all_words[55])"
   ]
  },
  {
   "cell_type": "code",
   "execution_count": 4,
   "metadata": {},
   "outputs": [
    {
     "name": "stdout",
     "output_type": "stream",
     "text": [
      "['abaculi', 'abaculus', 'abacus', 'abacuses', 'abada']\n"
     ]
    }
   ],
   "source": [
    "print(all_words[55-2:55+3])"
   ]
  },
  {
   "cell_type": "markdown",
   "metadata": {},
   "source": [
    "### Question 3: Part 1  \n",
    "\n",
    "Create a function that reports whether or not it is a valid English word, i.e. it appears in the list above. The function below is a template you can complete, and with indications of correct out below."
   ]
  },
  {
   "cell_type": "code",
   "execution_count": 5,
   "metadata": {},
   "outputs": [],
   "source": [
    "def is_valid(word, word_list):\n",
    "    if word in word_list:\n",
    "        return True\n",
    "    else:\n",
    "        return False"
   ]
  },
  {
   "cell_type": "code",
   "execution_count": 6,
   "metadata": {},
   "outputs": [
    {
     "data": {
      "text/plain": [
       "True"
      ]
     },
     "execution_count": 6,
     "metadata": {},
     "output_type": "execute_result"
    }
   ],
   "source": [
    "is_valid(\"hats\", all_words) == True\n"
   ]
  },
  {
   "cell_type": "code",
   "execution_count": 7,
   "metadata": {},
   "outputs": [
    {
     "data": {
      "text/plain": [
       "True"
      ]
     },
     "execution_count": 7,
     "metadata": {},
     "output_type": "execute_result"
    }
   ],
   "source": [
    "is_valid(\"sting\", all_words)  == True"
   ]
  },
  {
   "cell_type": "code",
   "execution_count": 8,
   "metadata": {},
   "outputs": [
    {
     "data": {
      "text/plain": [
       "True"
      ]
     },
     "execution_count": 8,
     "metadata": {},
     "output_type": "execute_result"
    }
   ],
   "source": [
    "is_valid(\"superchivalrousness\", all_words) == True"
   ]
  },
  {
   "cell_type": "code",
   "execution_count": 9,
   "metadata": {},
   "outputs": [
    {
     "data": {
      "text/plain": [
       "True"
      ]
     },
     "execution_count": 9,
     "metadata": {},
     "output_type": "execute_result"
    }
   ],
   "source": [
    "is_valid(\"notaword\", all_words) == False"
   ]
  },
  {
   "cell_type": "markdown",
   "metadata": {},
   "source": [
    "### Question 3: Part 2 \n",
    "\n",
    "What is the best case and worst case time complexity of your `is_valid` function. Under what conditions to do they occur?"
   ]
  },
  {
   "cell_type": "code",
   "execution_count": null,
   "metadata": {},
   "outputs": [],
   "source": [
    "# Best case would be O(1), where the word is the first element of the all_words list.\n",
    "# Worst case would be O(N), where N is the size of the all_words list. This would occur when the word is not found in the all_words list."
   ]
  },
  {
   "cell_type": "markdown",
   "metadata": {},
   "source": [
    "### Question 3: Part 3\n",
    "\n",
    "To build a spell checker we need to suggest replacement words for a word that is not in the list of valid words.  To do this, return the words either side of where the input word would appear the list of valid words if it was valid. \n",
    "\n",
    "Your function should be called `get_replacements`. It should return a list. If the word is spelled correctly it should return a list with just the correct word inside. If the word is incorrect it should return a list containing the two suggested replacements. Some examples are below.\n",
    "\n",
    "Hint: first consider the problem with numbers, as this makes the idea of \"either side\" a little easier to comprehend.\n",
    "\n"
   ]
  },
  {
   "cell_type": "code",
   "execution_count": 28,
   "metadata": {},
   "outputs": [],
   "source": [
    "def get_replacements(word, word_list):\n",
    "    replacement_lst = []\n",
    "    if is_valid(word, word_list):\n",
    "        return [word]\n",
    "    else:\n",
    "        while len(word) > 0:\n",
    "            for replacement_word in word_list:\n",
    "                if word in replacement_word:\n",
    "                    replacement_lst.append(replacement_word)\n",
    "                    print(replacement_lst)\n",
    "                    if len(replacement_lst) == 2:\n",
    "                        return replacement_lst\n",
    "            word = word[:-1]"
   ]
  },
  {
   "cell_type": "code",
   "execution_count": 21,
   "metadata": {},
   "outputs": [
    {
     "data": {
      "text/plain": [
       "True"
      ]
     },
     "execution_count": 21,
     "metadata": {},
     "output_type": "execute_result"
    }
   ],
   "source": [
    "get_replacements(\"sting\", all_words) == ['sting']"
   ]
  },
  {
   "cell_type": "code",
   "execution_count": 9,
   "metadata": {},
   "outputs": [
    {
     "data": {
      "text/plain": [
       "True"
      ]
     },
     "execution_count": 9,
     "metadata": {},
     "output_type": "execute_result"
    }
   ],
   "source": [
    "get_replacements(\"sheep\", all_words) == ['sheep']"
   ]
  },
  {
   "cell_type": "code",
   "execution_count": 29,
   "metadata": {},
   "outputs": [
    {
     "name": "stdout",
     "output_type": "stream",
     "text": [
      "['antipestilence']\n",
      "['antipestilence', 'antipestilent']\n"
     ]
    },
    {
     "data": {
      "text/plain": [
       "False"
      ]
     },
     "execution_count": 29,
     "metadata": {},
     "output_type": "execute_result"
    }
   ],
   "source": [
    "get_replacements(\"stilg\", all_words)  == ['stilettos', 'still']                                    "
   ]
  },
  {
   "cell_type": "code",
   "execution_count": 30,
   "metadata": {},
   "outputs": [
    {
     "name": "stdout",
     "output_type": "stream",
     "text": [
      "['sheepshank']\n",
      "['sheepshank', 'sheepshead']\n"
     ]
    },
    {
     "data": {
      "text/plain": [
       "False"
      ]
     },
     "execution_count": 30,
     "metadata": {},
     "output_type": "execute_result"
    }
   ],
   "source": [
    "get_replacements(\"sheeps\", all_words) == ['sheeppen', 'sheepshank']"
   ]
  },
  {
   "cell_type": "markdown",
   "metadata": {},
   "source": [
    "### OPTIONAL Question 3: Part 4 \n",
    "\n",
    "As you can see from the examples above, this is a pretty bad approach to suggesting words to replace misspellings. Design an alternative solution and report its time complexity.\n",
    "\n",
    "*Hint: the textdistance library can help you calculate the distance between words.*"
   ]
  },
  {
   "cell_type": "code",
   "execution_count": null,
   "metadata": {},
   "outputs": [],
   "source": []
  }
 ],
 "metadata": {
  "interpreter": {
   "hash": "a1ee6ddb3e9183b0de6905d9ddfbfe8a106531d5e4e4296eab44132ade9287ee"
  },
  "kernelspec": {
   "display_name": "Python 3",
   "language": "python",
   "name": "python3"
  },
  "language_info": {
   "codemirror_mode": {
    "name": "ipython",
    "version": 3
   },
   "file_extension": ".py",
   "mimetype": "text/x-python",
   "name": "python",
   "nbconvert_exporter": "python",
   "pygments_lexer": "ipython3",
   "version": "3.10.6"
  }
 },
 "nbformat": 4,
 "nbformat_minor": 4
}
